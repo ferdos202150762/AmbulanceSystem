{
 "cells": [
  {
   "cell_type": "markdown",
   "metadata": {
    "id": "lG9KvKMHWFu4"
   },
   "source": [
    "## Ambulance Allocation Through Reinforcement Learning\n",
    "Francisco Aristi\n",
    "\n",
    "Boyan Alipiev \n",
    "\n",
    "\n",
    "---\n",
    "\n"
   ]
  },
  {
   "cell_type": "markdown",
   "metadata": {
    "id": "mVB4ZvWUxD6A"
   },
   "source": [
    "# Introduction\n",
    "\n",
    "Reinforcement learning is often perceived as one of the fundamental blocks of Artificial Intelligence. In the majority of its implementations, it focuses on model-less environments, where an agent ‘learns’ based on his/her actions, the states in which these actions were taken, and the respective reward or punishment the agent receives as a consequence of its decisions. After a finite number of iterations, the agent optimises his/her action given the state that he/she is in in order to maximise its payoff or equivalently, minimise its penalties. \n",
    "\n",
    "An emerging problem analysis in Reinforcement Learning is the case when you have two or more different learning agents with different objective functions, where an agent aims to influence the behavior via a mechanism. Literature in this area ranges from Mechanism Design in Game Theory to multi-agent system with learning behavior and a coordination mechanism.[5][8]\n",
    "\n",
    "This paper analyses the coordination problem in an Ambulance System. The patients arrive randomly across regions, and the rate of arrival is unknown. Furthermore, there is a Central Planner that wants to influence the behavior of independent ambulances so that the number of attended patients is maximised. The problem the Central Planner faces is that ambulances optimise other objective function, namely the expected waiting time between patients. \n",
    "\n",
    "\n",
    "\n",
    "---\n",
    "\n",
    "\n",
    "# Abstract\n",
    "\n",
    "The report is divided in three different settings with three Reinforcement Learning approaches:\n",
    "\n",
    "- The first approach considers a Central Planner that has full control of ambulances: the central planner learns and plans how to allocate ambulances in regions to achieve the system's objective. This is a single agent reinforcement learning problem.\n",
    "\n",
    "- The second approach involves a multiagent system where there is not a Central Planner and ambulances learn independently by themselves. The ambulances are trying to minimise the expected waiting time between attended patients. \n",
    "\n",
    "- Lastly, we define a model based on Wu's Markov Persuasive Process to describe a mechanism on how the Central Planner can influence the decision of the independent ambulances taking advantage of their asymmetric information over the rate of patients in each region.[12]\n",
    "\n",
    "Surprisingly, the first setting produces similar results to the second setting. The third setting is presented on a theoretical level given the additional computational complications that are introduced in our model. The report further suggests other applications of the third setting.\n",
    "\n",
    "\n",
    "\n",
    "---\n",
    "\n"
   ]
  },
  {
   "cell_type": "markdown",
   "metadata": {
    "id": "hUmYpT5SKY6G"
   },
   "source": [
    "# Problem Description\n",
    "\n",
    "There are $n$ ambulances in a city and $m$ regions. At each step $t$ a patient arrives to a region $j \\in [m]$  drawn from a probability distribution. The probability distribution over regions $P([m]) \\in \\{(p_1, p_2, ..., p_m)|  \\sum_{i=1}^m p_i = 1\\}$ (to simplify the problem we assume this probability distribution is always the same). \n",
    "\n",
    "Ambulances are located within regions and they can attend a patient, if it coincides that a patient arrives at their location $j$. If there are more than 1 ambulances in the region the ambulance that attends the patient is drawn from random uniform distribution.  More importantly, if there is not ambulance in the region the patient dies. \n",
    "When an ambulance attends a patient it moves the patient to another region randomly.\n",
    "\n",
    "The day ends at a time $T$ and from $[1,T]$ ambulances can move from one region to the other freely. \n",
    "\n",
    "The system problem is the following: given that the distribution of arrival of patients is unknown to the ambulances, what is the best learning algorithm to find an arrangement of ambulances that minimise unattended patients in expectation?"
   ]
  },
  {
   "cell_type": "markdown",
   "metadata": {
    "id": "ru-dKC9Fyl2B"
   },
   "source": [
    "# Motivation and Objective\n",
    "\n",
    "Mexico City Ambulance System consists of a central regualtor and independent ambulances. The former has full control of the police force, city cameras, and indirect influence over ambulances via radio communication to disclose information about new patients.\n",
    "\n",
    "A problem the First Respondent system has faced is how to allocate ambulances strategically to minimise non attended patients, subject to obedient behavior from the ambulances. Even though signficant efforts have been made to implement the policy (mainly by establishing private communication from an ambulance to the central planer), a study in 2018 revealed that each day from an average of 1000 ambulances, only 30% were attended. \n",
    "Additionally, the average response time to carry a patient to a hospital is 42 minutes, which is unreliable for critical cases (strokes, EVC etc.) [10].\n",
    "\n",
    "An analysis developed by Aristi in 2019 showed that the problem was due to different incentives between the central planer and the independent ambulances.[1] The first ones' objective is to minimise unattended patients with good quality response time, while the latter ones aim to minimise the time waiting between patients. These differences generated an environment where most ambulances are concentrated in the densest areas of the city competing for the same patient, while other city areas are left unattended. \n",
    "Faced with uncertainty in the decision making process of each actor, the system is hindered even further.\n",
    "\n",
    "The objective in this work is to understand how would the metric of non-attended patients improve if the cental planer had full control of ambulances,given that a Reinforcement Learning Algorithm established how to allocate them versus the case where each ambulance is independent and learns by itself. \n",
    "More importantly, we aim to arrive to a mechanism that can implement a system where the central planner persuades ambulances to behave in a way that improves the non-attended metric.\n",
    "\n",
    "\n",
    "---\n",
    "\n",
    "\n",
    "\n"
   ]
  },
  {
   "cell_type": "markdown",
   "metadata": {
    "id": "Tg-vltREW2Ty"
   },
   "source": [
    "# Central Planner with Full Control Environment\n",
    "\n",
    "Suppose there is a central planner that has full control over the ambulances, i.e. he can allocate ambulances at his will and they will obey to do it. \n",
    "\n",
    "With full information this situation can be represented as a Markov Decision Process."
   ]
  },
  {
   "cell_type": "markdown",
   "metadata": {
    "id": "L0ab4oZSKnVJ"
   },
   "source": [
    "## Markov Decision Process Model of the Ambulance Allocation Problem\n",
    "\n",
    "We assume the system transitions in the following order:\n",
    "1. State $S_t$ is observed.\n",
    "2. Ambulances are allocated in a new way through taking action $A_t$\n",
    "3. A patient arrives to a region $j$ \\\\\n",
    "    3.1. Rewards are given. \\\\\n",
    "    3.2. The ambulance takes the patient randomly to another region $j´$ drawn with a distribution with equal probability over regions. \\\\\n",
    "    3.3. The new state $S_{t+1}$ is realised. \\\\\n",
    "  ... \\\\\n",
    "\n",
    "(The system continues until step $T$)\n",
    "\n",
    "\n",
    "Formally we define a Markov Decision Process model as follows. \n",
    "\n",
    "- State space $S$ for the central planer $S = \\{(s_1,...,s_m)| \\sum_{i=1}^m s_i = n\\}$ where $s \\in S$\n",
    "- Action space of the environment are any to move an ambulance **Left**, **Right**, or **Stay**, thus $A \\subset S$.\n",
    "- The transition probability from $S_t,A_t$ to $S_{t+1}$ is defined by the ocurrence of a patient in a region $j$ and, if there is an ambulance in the region $j$, the place where the ambulance will be taken $j'$. \n",
    "- Rewards $R$ are either -1 if there is a patient at $j$ and $s_j=0$, and 0 other wise.\n",
    "\n",
    "Finally, notice this MDP model satisfies *Markovianity* and *time-homogeneity* which is important to obtain the Optimal Solution.\n",
    "\n",
    "## Uncertainty of Patient Arrival\n",
    "\n",
    "In real life it is impossible to know with certainty where the next patient will occur, and respectively where the ambulance would be taken. Therefore, the transition probability is unkown for any agent of the system. \n",
    "\n",
    "In the following sections we analyse how to solve the Learning and Planning problem of the ambulance allocation in a city.\n",
    "\n",
    "## Central Planner Policy, Return and Value\n",
    "\n",
    "The Central Planer Policy is deterministic, markov and homogeneous for any $t$, i.e. $\\pi_t(a,s_t) = 1 \\text{ for some } a \\text{ and zero for the other actions }$.\n",
    "\n",
    "The central planer's objective is to avoid unattended patients. Therefore, it aims to determine a policy for every t that maximises: $$E^\\pi[G_t ]$$ where the return is defined as $G_t = \\sum_{i=0}^T \\gamma^{i}R_i $.\n",
    "\n",
    "As seen in previous literature, the value is the expected return staring from s and is defined $$V^\\pi(s) = E^\\pi[G_t| S_t=s]$$\n",
    "\n",
    "## Solution\n",
    "\n",
    "For the solution we implement a tabular Q-learning algorithm that performs the learning and planning activities.\n",
    "\n",
    "The method is model-free since it doesn't assume a structure of the underlying stochastic process, and off policy as the behavior policy ($\\epsilon - Greedy$) is independent of the target policy.\n",
    "\n",
    "As described in lectures:\n",
    "$$Q^{opt}(s,a) = E[R_t + \\gamma \\ max_{a'} Q^{opt}(S_{t+1},a')|A_t = a, S_t =s )$$ \n",
    "\n",
    "\n",
    "## Q-Learning: Pseudocode\n",
    "- *Initialisation*: arbitrary Q.\n",
    "- **Repeat** for each episode:\n",
    "  **Initialise** state s\n",
    "  \n",
    "  **Repeat** for each step of the episode: \\\\\n",
    "    a ← action s using policy derived from ϵ-Greedy\\\\\n",
    "    Take action a, observe reward r and next state s' \\\\\n",
    "   $ Q(s,a) \\leftarrow Q(s,a)+\\alpha[r+ \\gamma \\ max_{a'} Q^{opt}(S_{t+1},a')]$ \\\\\n",
    "    $s \\leftarrow s'$ \\\\\n",
    "  **until** s is a terminal state.\n",
    "\n",
    "\n"
   ]
  },
  {
   "cell_type": "markdown",
   "metadata": {
    "id": "CtojtC1Jv6Ac"
   },
   "source": [
    "## Example: Central Planner with One Ambulance\n",
    "\n",
    "In the following section we develop an example instantiated in a three region environment with one ambulance. "
   ]
  },
  {
   "cell_type": "code",
   "execution_count": 4,
   "metadata": {
    "id": "LA70irP-YkZ0"
   },
   "outputs": [],
   "source": [
    "import numpy as np\n",
    "\n",
    "class City:\n",
    "  \"\"\"\n",
    "    City environment. It simulates where agents arrive and  where ambulances are taken after\n",
    "    a patient is attended.\n",
    "  \"\"\"\n",
    "\n",
    "  def __init__(self, ambulances, regions, T, p):\n",
    "    self.n = ambulances\n",
    "    self.m = regions\n",
    "    self.initial_state = np.zeros(regions)\n",
    "    self.reward = None\n",
    "    self.state = [0]*self.m\n",
    "    self.is_terminal = None\n",
    "    self.T = T\n",
    "    self.time_counter = None\n",
    "    self.distribution = p\n",
    "\n",
    "\n",
    "\n",
    "  def reset(self):\n",
    "\n",
    "    self.reward = 0.0\n",
    "    self.is_terminal = False\n",
    "    self.time_counter = 0 \n",
    "    self.state = [0,1,0]     \n",
    "    return self.state  \n",
    "\n",
    "  def patient_arrival(self):\n",
    "    return np.random.choice(range(0,self.m),p = self.distribution)\n",
    "\n",
    "  def step(self, action):\n",
    "    \"\"\"\n",
    "      One step decision from the central planner:\n",
    "      action: m tuple with the position of ambulances, \n",
    "      constrained on n, over the sum of ambulances in all the regions.\n",
    "    \"\"\"\n",
    "\n",
    "    new_state = [0]*3\n",
    "    m_incident = self.patient_arrival()\n",
    "    #print(m_incident)\n",
    "    if action[m_incident] != 0:\n",
    "      movement = np.random.randint(0,self.m)\n",
    "\n",
    "      new_state[movement] = new_state[movement] + 1   \n",
    "      self.reward = 0\n",
    "      self.state = new_state\n",
    "    else:\n",
    "      self.reward = -1 \n",
    "      self.state = action\n",
    "\n",
    "    self.time_counter += 1 \n",
    "\n",
    "    if self.time_counter == self.T:\n",
    "      self.is_terminal = True     \n",
    "\n",
    "    return self.state, self.reward, self.is_terminal\n",
    "    \n",
    "\n"
   ]
  },
  {
   "cell_type": "code",
   "execution_count": null,
   "metadata": {
    "id": "TE0Xemk0kuQn"
   },
   "outputs": [],
   "source": [
    "stay = 0\n",
    "left = 1\n",
    "right = 2\n",
    "\n",
    "actions = [stay, left, right]"
   ]
  },
  {
   "cell_type": "code",
   "execution_count": null,
   "metadata": {
    "id": "zO5hAMeymDWn"
   },
   "outputs": [],
   "source": [
    "def eps_greedy_policy(qsa, epsilon=0.01):\n",
    "  '''\n",
    "  qsa : tabular information about the state-action function\n",
    "  epsilon: probability of exploring.\n",
    "  '''\n",
    "  if np.random.binomial(1, epsilon) == 1:\n",
    "      return np.random.choice(actions)\n",
    "  else:\n",
    "      return np.random.choice([action_ for action_, value_ in enumerate(qsa) if value_ == np.max(qsa)])\n",
    "\n",
    "\n",
    "def q_learning(qsa, next_qs, r, alpha=0.1, gamma=.3):\n",
    "  \"\"\"\n",
    "    Main Q-Learning method\n",
    "    qsa: actual state- action value\n",
    "    next_qs: vector of values indexed by actions.\n",
    "    r:reward\n",
    "  \"\"\"  \n",
    "  return qsa + alpha * (r + gamma * np.max(next_qs) - qsa)"
   ]
  },
  {
   "cell_type": "code",
   "execution_count": null,
   "metadata": {
    "id": "h2jOpd78ELQ2"
   },
   "outputs": [],
   "source": [
    "\n",
    "def create_q_qlearning(m , n = 1):\n",
    "  '''\n",
    "  Method that instantiates the data structure for tabular information.\n",
    "  Each state has a key and is linked to a vector of |A| dimensions.\n",
    "  '''\n",
    "\n",
    "  q_qlearning = dict()\n",
    "  for j in range(0,m):\n",
    "    state = [0]*m\n",
    "    state[j] = 1\n",
    "    q_qlearning[str(state)] = [0]*3\n",
    "  \n",
    "  return q_qlearning\n",
    "\n",
    "\n",
    "def change(state,action):\n",
    "  \"\"\"\n",
    "  Method that helps the process of updating the State based on the action decision.\n",
    "  \"\"\"\n",
    "\n",
    "  new_state = [0]*3\n",
    "\n",
    "  if action == 0:\n",
    "    return state\n",
    "  elif action == 1:\n",
    "    for i in range(len(state)):\n",
    "      if i != 0 and 1 == state[i]:\n",
    "        new_state[i-1] = 1 \n",
    "        break \n",
    "      elif i == 0 and 1 == state[i]:\n",
    "        new_state[0] = 1  \n",
    "        break    \n",
    "                       \n",
    "  elif action == 2:\n",
    "    for i in range(len(state)):\n",
    "      if i != 2 and 1 == state[i]:\n",
    "        new_state[i+1] = 1\n",
    "        break\n",
    "      elif i == 2 and 1 == state[i]:\n",
    "        new_state[2] = 1  \n",
    "        break \n",
    "\n",
    "  return new_state"
   ]
  },
  {
   "cell_type": "code",
   "execution_count": null,
   "metadata": {
    "colab": {
     "base_uri": "https://localhost:8080/"
    },
    "id": "8eGV1xoWk3Hd",
    "outputId": "8a32706c-9171-4915-f95d-c9ea74e6c944"
   },
   "outputs": [
    {
     "name": "stdout",
     "output_type": "stream",
     "text": [
      "0\n",
      "1\n",
      "2\n",
      "3\n",
      "4\n",
      "5\n",
      "6\n",
      "7\n",
      "8\n",
      "9\n",
      "10\n",
      "11\n",
      "12\n",
      "13\n",
      "14\n",
      "15\n",
      "16\n",
      "17\n",
      "18\n",
      "19\n"
     ]
    }
   ],
   "source": [
    "import numpy as np\n",
    "\n",
    "episodes = 30\n",
    "runs = 20\n",
    "\n",
    "rewards_qlearning = np.zeros(episodes)\n",
    "rewards_random = np.zeros(episodes)\n",
    "\n",
    "p = [.2,.6,.2]\n",
    "\n",
    "env_q_learning = City(1, 3, 100, p)\n",
    "env_random = City(1, 3, 100, p)\n",
    "\n",
    "\n",
    "\n",
    "for r in range(runs):\n",
    "    print(r)\n",
    "\n",
    "    q_qlearning = create_q_qlearning(env_q_learning.m)\n",
    "    q_random = create_q_qlearning(env_random.m)\n",
    "\n",
    "    for i in range(episodes):\n",
    "\n",
    "        state_q = env_q_learning.reset()\n",
    "        state_random = env_random.reset()\n",
    "\n",
    "        done_q = False\n",
    "        done_random = False\n",
    "\n",
    "        g_q = 0.0\n",
    "        g_random = 0.0       \n",
    "  \n",
    "            \n",
    "        #Q-Learning\n",
    "        while not done_q:\n",
    "            \n",
    "            a_q = eps_greedy_policy(q_qlearning[str(state_q)])\n",
    "\n",
    "\n",
    "            change_state = change(state_q,a_q)\n",
    "\n",
    "\n",
    "            #print((state_q, change_state, a_q))\n",
    "            next_state_q, r_q, done_q = env_q_learning.step(change_state)\n",
    "\n",
    "            #print((state_q, change_state, next_state_q, r_q, done_q, a_q))\n",
    "            g_q += r_q\n",
    "            # Q-learning updates, note the second argument\n",
    "            q_qlearning[str(state_q)][a_q] = q_learning(q_qlearning[str(state_q)][a_q],\n",
    "                                                        q_qlearning[str(next_state_q)], r_q)\n",
    "            #print(q_qlearning)\n",
    "            state_q= next_state_q\n",
    "            \n",
    "        #Q-Learning\n",
    "        while not done_random:\n",
    "            \n",
    "            a_r = np.random.choice(actions)\n",
    "\n",
    "            change_state_random = change(state_random,a_r)\n",
    "\n",
    "\n",
    "            #print((state_q, change_state, a_q))\n",
    "            next_state_random, r_random, done_random = env_random.step(change_state_random)\n",
    "            g_random += r_random\n",
    "\n",
    "            state_random= next_state_random\n",
    "            \n",
    "\n",
    "\n",
    "\n",
    "        rewards_qlearning[i] += g_q\n",
    "        rewards_random[i] += g_random\n"
   ]
  },
  {
   "cell_type": "code",
   "execution_count": null,
   "metadata": {
    "colab": {
     "base_uri": "https://localhost:8080/"
    },
    "id": "TyONU_N5Sh0F",
    "outputId": "83dc6f75-11dc-408a-9848-f773aedb4638"
   },
   "outputs": [
    {
     "data": {
      "text/plain": [
       "array([-1321., -1318., -1340., -1348., -1357., -1330., -1340., -1294.,\n",
       "       -1309., -1351., -1369., -1303., -1368., -1316., -1320., -1341.,\n",
       "       -1358., -1327., -1331., -1304., -1346., -1294., -1326., -1318.,\n",
       "       -1337., -1356., -1378., -1356., -1325., -1363.])"
      ]
     },
     "execution_count": 6,
     "metadata": {},
     "output_type": "execute_result"
    }
   ],
   "source": [
    "rewards_random"
   ]
  },
  {
   "cell_type": "code",
   "execution_count": null,
   "metadata": {
    "colab": {
     "base_uri": "https://localhost:8080/"
    },
    "id": "fv3vnrlNYSj0",
    "outputId": "32e1937b-4336-4ffc-a6f2-a68a6d973bd7"
   },
   "outputs": [
    {
     "data": {
      "text/plain": [
       "array([-64.85, -66.25, -66.4 , -65.45, -65.75, -65.45, -67.25, -65.85,\n",
       "       -65.7 , -66.  , -68.4 , -65.55, -68.55, -66.85, -65.95, -67.3 ,\n",
       "       -65.55, -67.95, -67.8 , -67.3 , -65.55, -65.  , -67.55, -66.45,\n",
       "       -68.1 , -67.75, -69.2 , -65.25, -66.25, -64.45])"
      ]
     },
     "execution_count": 152,
     "metadata": {},
     "output_type": "execute_result"
    }
   ],
   "source": [
    "rewards_qlearning /= runs\n",
    "rewards_qlearning"
   ]
  },
  {
   "cell_type": "code",
   "execution_count": null,
   "metadata": {
    "colab": {
     "base_uri": "https://localhost:8080/"
    },
    "id": "ZPnXe2iDUtM-",
    "outputId": "e6201286-44e5-41d1-f34c-ce2676071c31"
   },
   "outputs": [
    {
     "data": {
      "text/plain": [
       "array([-67.9 , -66.9 , -68.45, -63.9 , -66.85, -67.7 , -65.5 , -66.95,\n",
       "       -67.3 , -66.05, -65.75, -64.25, -65.9 , -66.65, -67.25, -67.  ,\n",
       "       -66.4 , -66.05, -66.7 , -66.45, -66.6 , -65.2 , -65.8 , -65.15,\n",
       "       -66.15, -68.85, -68.25, -67.15, -67.6 , -64.7 ])"
      ]
     },
     "execution_count": 175,
     "metadata": {},
     "output_type": "execute_result"
    }
   ],
   "source": [
    "rewards_qlearning"
   ]
  },
  {
   "cell_type": "code",
   "execution_count": null,
   "metadata": {
    "colab": {
     "base_uri": "https://localhost:8080/",
     "height": 304
    },
    "id": "d34azCf1Ye7u",
    "outputId": "0589f191-5d5d-4760-c02f-2bdac8dd649d",
    "scrolled": true
   },
   "outputs": [
    {
     "data": {
      "image/png": "[encoded data removed]",
      "text/plain": [
       "<Figure size 432x288 with 1 Axes>"
      ]
     },
     "metadata": {
      "needs_background": "light"
     },
     "output_type": "display_data"
    }
   ],
   "source": [
    "import matplotlib.pyplot as plt\n",
    "def plot_rewards(plots):\n",
    "    plt.figure()\n",
    "    for plot in plots:\n",
    "        method, method_title = plot\n",
    "        plt.plot(method, label=method_title)\n",
    "    # plt.plot(r_qlearning, label='Q-learning')\n",
    "    plt.xlabel('Episodes')\n",
    "    plt.ylabel('Sum of rewards during episodes')\n",
    "    plt.ylim([-100, 0])\n",
    "    plt.legend()\n",
    "    plt.show()\n",
    "\n",
    "\n",
    "rewards_random /= runs\n",
    "rewards_qlearning /= runs\n",
    "\n",
    "plot_rewards([[rewards_random, 'Random'], [rewards_qlearning, 'Q-learning']])\n"
   ]
  },
  {
   "cell_type": "markdown",
   "metadata": {
    "id": "nujkKPUxOmhE"
   },
   "source": [
    " \n",
    "## Observations and Conclusions\n",
    "\n",
    "The implemented setting involved n=1, m=3 and a probability distibution of (.2, .6, .2) for the arrival of patients in a region. It was noted in the study that a more homogeneous distribution impeded learning for the Q-Learning algorithm. At the end, the selected characterisation was one that involved a region with a probability of more than 50%. This assumption is realistic because the rate of patients is considerably higher in the densest regions, which in places like Mexico City, are in the central neighbourhoods.\n",
    "\n",
    "\n",
    "Moreover, the discount factor,Gamma($\\gamma$), has to be lower to achieve a greater learning and better performance.Epsilon($\\epsilon$) has to be lower because there aren't too many things to explore.\n",
    "\n",
    "\n",
    "A problem with this setting is the increasing exponential rate in the action and state space size for each ambulance that is introduced in the system. In a big n this affects the estimation of state-value function and makes it impossible to converge to a solution.\n",
    "\n",
    "Additionally, in many Emergency Systems,e.g. Mexico City, ambulances are part of the system, but they are independent from the authority and they act on their own will under the law. This is an important fact to consider and that would be analysed in the next multiagent section.\n",
    "\n",
    "---\n",
    "\n"
   ]
  },
  {
   "cell_type": "markdown",
   "metadata": {},
   "source": [
    "## Linear Approximation\n",
    "\n",
    "Given that the state and action space that we examine are relatively small compared to the problem at hand in the real world, we briefly mention the implemntation of linear approximation of Q-learning. The idea is to approximate the Q-values once the state and action spaces are significanlty larger and thus can impede the straightforward implementation of the Q-learning algorithm due to the added complexity. A specific concept for the Linear Approximation in our problem is that the coefficients in certain cases need to be kept constant at 0:thus some cases shouldn't add influence to the overall estimation. The state-action pairs that need to be excluded are two: given that the state of a particulat ambulance is the left-most position,$s$[1] or $s$[0], depending on the notation, the ambulance isn't able to make a Left move, thus $a$[1] or $a$[0],again depending on the choice of notation. The other case is when the state-action pair define the rightmost state and $a$[R]. Thus, the linear approximation is going to have 2 less coefficients to be determined. In the case discussed above, the state-action pairs will decrease from 9 to 7."
   ]
  },
  {
   "cell_type": "markdown",
   "metadata": {},
   "source": [
    "We want to create an approximate function. We have the following options:\n",
    "1. A function receives a $(s,a)$ and ouputs $Q(s,a,w)$\n",
    "2. A function receives a state (s) and outputs $Q(s,a_1;w),...,Q(s,a_{|A|};w)$ \n",
    "\n",
    "\n",
    "An important note is: the state Action space depend on number of players: $3^n$ \n",
    "\n",
    "## Fitted Q Iteration algorithm\n",
    "- initialize $\\hat Q$, $\\bar{Q}$, k = 0.\n",
    "- While (k < K) Repeat: \n",
    "    - Generate enought data $\\{(S_t,A_t,R_t,S_{t+1}) \\}_{t=1}^T$ using policy derived from $\\hat Q $ with epsilon-greedy.\n",
    "    - Compute $\\hat{Q}$ as the argmin of:\n",
    "        $\\hat{Q} = argmin_w \\sum_{t=1}^T[R_t+max_a \\bar{Q}(S_{t+1},a)-Q(S_t,A_t;w)]$\n",
    "    - $\\bar{Q} = \\hat{Q}$\n",
    "    "
   ]
  },
  {
   "cell_type": "code",
   "execution_count": 4,
   "metadata": {
    "scrolled": true
   },
   "outputs": [
    {
     "name": "stdout",
     "output_type": "stream",
     "text": [
      "Model: \"q_approximation\"\n",
      "_________________________________________________________________\n",
      " Layer (type)                Output Shape              Param #   \n",
      "=================================================================\n",
      " dense_2 (Dense)             (None, 9)                 54        \n",
      "                                                                 \n",
      " dense_3 (Dense)             (None, 9)                 90        \n",
      "                                                                 \n",
      "=================================================================\n",
      "Total params: 144\n",
      "Trainable params: 144\n",
      "Non-trainable params: 0\n",
      "_________________________________________________________________\n"
     ]
    }
   ],
   "source": [
    "from tensorflow import keras\n",
    "import tensorflow as tf \n",
    "from keras import layers\n",
    "\n",
    "n = 2\n",
    "m = 5\n",
    "\n",
    "approximation = keras.Sequential(name='q_approximation')\n",
    "approximation.add(layers.Input(m))\n",
    "approximation.add(layers.Dense(9,activation='relu'))\n",
    "approximation.add(layers.Dense((9)))\n",
    "approximation.summary()\n",
    "\n",
    "approximation.compile(\n",
    "    optimizer=tf.optimizers.SGD(learning_rate=0.1),\n",
    "    loss='mean_squared_error')\n",
    "\n"
   ]
  },
  {
   "cell_type": "code",
   "execution_count": null,
   "metadata": {},
   "outputs": [],
   "source": []
  },
  {
   "cell_type": "code",
   "execution_count": null,
   "metadata": {},
   "outputs": [],
   "source": [
    "import numpy as np\n",
    "\n",
    "class City:\n",
    "  \"\"\"\n",
    "    City environment. It simulates where agents arrive and  where ambulances are taken after\n",
    "    a patient is attended.\n",
    "  \"\"\"\n",
    "\n",
    "  def __init__(self, ambulances, regions, T, p):\n",
    "    self.n = ambulances\n",
    "    self.ambulances = [0]*self.m\n",
    "    self.m = regions\n",
    "    self.reward = None\n",
    "    self.state = [0]*self.m\n",
    "    self.is_terminal = None\n",
    "    self.T = T\n",
    "    self.time_counter = None\n",
    "    self.distribution = p\n",
    "\n",
    "\n",
    "  def reset(self):\n",
    "\n",
    "    self.reward = 0.0\n",
    "    self.is_terminal = False\n",
    "    self.time_counter = 0 \n",
    "    \n",
    "    for ambulance in range(0, self.n):\n",
    "        position = np.random.choice(range(0,self.m))\n",
    "        \n",
    "        self.ambulances[ambulance] = position\n",
    "        \n",
    "        self.state[m] += 1\n",
    "        \n",
    "    return self.state  \n",
    "\n",
    "  def patient_arrival(self):\n",
    "    return np.random.choice(range(0,self.m),p = self.distribution)\n",
    "\n",
    "\n",
    "\n",
    "\n",
    "  def step(self, actions: str)-> (list, int, bool):\n",
    "    \"\"\"\n",
    "      One step decision from the central planner:\n",
    "      actions: n string with the decision of ambulances, e.g 102, 012, 021 etc. \n",
    "    \"\"\"\n",
    "\n",
    "    def action2state(action):\n",
    "        for ambulance in range(0, self.n):\n",
    "            new_state = [0]*self.m\n",
    "            action = actions[ambulance]\n",
    "\n",
    "            if action == 1:\n",
    "                self.ambulances[ambulance] = (self.ambulances[ambulance]-1)%self.m\n",
    "            elif (action == 1)\n",
    "                self.ambulances[ambulance] = (self.ambulances[ambulance]+1)%self.m \n",
    "                \n",
    "            new_state[ self.ambulances[ambulance] ] += 1 \n",
    "    \n",
    "    return new_state\n",
    "\n",
    "    self.state = action2state(action)\n",
    "    \n",
    "    \n",
    "    m_incident = self.patient_arrival()\n",
    "    #print(m_incident)\n",
    "    if self.state[m_incident] != 0:\n",
    "      movement = np.random.randint(0,self.m)\n",
    "\n",
    "      self.state[movement] = self.state[movement] + 1   \n",
    "      self.state[m_incident] = self.state[m_incident] - 1\n",
    "      self.reward = 0\n",
    "        \n",
    "    else:\n",
    "      self.reward = -1 \n",
    "\n",
    "    self.time_counter += 1 \n",
    "\n",
    "    if self.time_counter == self.T:\n",
    "      self.is_terminal = True     \n",
    "\n",
    "    return self.state, self.reward, self.is_terminal\n",
    "    \n"
   ]
  },
  {
   "cell_type": "code",
   "execution_count": 48,
   "metadata": {},
   "outputs": [],
   "source": [
    "def base(ambu, n):\n",
    "    s = ''\n",
    "    \n",
    "    if n < 3:\n",
    "        n = str(n)\n",
    "        for _ in range(0,ambu-len(n)):\n",
    "            n = \"0\"+n\n",
    "        return str(n)\n",
    "\n",
    "    while n != 0:\n",
    "        s = str(n%3) + s\n",
    "        n = n//3\n",
    "        \n",
    "    for _ in range(0,ambu-len(s)):\n",
    "        s = \"0\"+s\n",
    "        \n",
    "    return s"
   ]
  },
  {
   "cell_type": "code",
   "execution_count": 54,
   "metadata": {},
   "outputs": [
    {
     "data": {
      "text/plain": [
       "'1011102200212000122202010121110011222012000121002011012221120122101010001001100102220120020001101102'"
      ]
     },
     "execution_count": 54,
     "metadata": {},
     "output_type": "execute_result"
    }
   ],
   "source": [
    "base(100,200000000000000000000000000000000000000000000000)"
   ]
  },
  {
   "cell_type": "code",
   "execution_count": null,
   "metadata": {},
   "outputs": [],
   "source": [
    "import numpy as np\n",
    "\n",
    "episodes = 30\n",
    "runs = 20\n",
    "\n",
    "rewards_qlearning = np.zeros(episodes)\n",
    "rewards_random = np.zeros(episodes)\n",
    "\n",
    "p = [.2,.6,.2]\n",
    "\n",
    "env_fitted_q_learning = City(n, m, 100, p)\n",
    "env_random = City(n, m, 100, p)\n",
    "\n",
    "\n",
    "\n",
    "for r in range(runs):\n",
    "    print(r)\n",
    "\n",
    "    # // Borrar esto\n",
    "    q_qlearning = create_q_qlearning(env_q_learning.m)\n",
    "    q_random = create_q_qlearning(env_random.m)\n",
    "\n",
    "    for i in range(episodes):\n",
    "\n",
    "        \n",
    "        state_q = env_q_learning.reset()\n",
    "        state_random = env_random.reset()\n",
    "\n",
    "        done_q = False\n",
    "        done_random = False\n",
    "\n",
    "        g_q = 0.0\n",
    "        g_random = 0.0       \n",
    "  \n",
    "            \n",
    "        #Q-Learning\n",
    "        while not done_q:\n",
    "            \n",
    "            # // Cambiar a fitted\n",
    "            a_q = eps_greedy_policy(q_qlearning[str(state_q)])\n",
    "\n",
    "\n",
    "            #print((state_q, change_state, a_q))\n",
    "            next_state_q, r_q, done_q = env_fitted_q_learning.step(a_q)\n",
    "\n",
    "            #print((state_q, change_state, next_state_q, r_q, done_q, a_q))\n",
    "            g_q += r_q\n",
    "\n",
    "        # // Make algorithm learn\n",
    "        \n",
    "        \n",
    "        # // Change of target.\n",
    "        \n",
    "        \n",
    "        #Q-Learning\n",
    "        while not done_random:\n",
    "            \n",
    "            a_r = np.random.choice(actions)\n",
    "\n",
    "            change_state_random = change(state_random,a_r)\n",
    "\n",
    "\n",
    "            #print((state_q, change_state, a_q))\n",
    "            next_state_random, r_random, done_random = env_random.step(change_state_random)\n",
    "            g_random += r_random\n",
    "\n",
    "            state_random= next_state_random\n",
    "            \n",
    "\n",
    "\n",
    "\n",
    "        rewards_qlearning[i] += g_q\n",
    "        rewards_random[i] += g_random"
   ]
  },
  {
   "cell_type": "markdown",
   "metadata": {
    "id": "U7hkY0cBt4ob"
   },
   "source": [
    "# Independent Ambulances without a Central Planner\n"
   ]
  },
  {
   "cell_type": "markdown",
   "metadata": {
    "id": "Mhgec7rxuGqK"
   },
   "source": [
    "Mexico City and many cities do not have a centralised system. In fact, the case is often the opposite: ambulances belong to independent companies and they attend patients based on their own objectives, information, and values. \n",
    "\n",
    "In this section we analyse what is the result of these circumstances in the emergency system. To attain insight we model the Emergency System as a Multi-Agent Reinforcement Learning, where all ambulances are competing among themselves to attend patients as soon as possible. In particular the framework that will be used is Markov Stochastic Games. \n"
   ]
  },
  {
   "cell_type": "markdown",
   "metadata": {
    "id": "3ZuTgfkK4vfC"
   },
   "source": [
    "## Markov Stochastic Game"
   ]
  },
  {
   "cell_type": "markdown",
   "metadata": {
    "id": "hizZIoUo4yS2"
   },
   "source": [
    "**General Setting**\n",
    "\n",
    "We solve a Markov Stochastic Game as described in (Zhang, Kaiqing, et al, 2021) to model the problem of many ambulances in a city making decisions. \n",
    "The Markov Stochastic Game is a competitive game between the agents and it is defined in the following way:\n",
    "- $[n]$ ambulances are in the system.\n",
    "- The state space for an ambulance $S^{i}$ is the location of ambulances in the city. Thus, ambulances can see where all the other units are located.\n",
    "- The action space for ambulance $i$ is define as $A^{i} = \\{L,R,Stay\\}$. Where $A = A^1 \\times ...  \\times A^n$ is the joint action space.\n",
    "- The transition probability corresponds to a mapping $P: S \\times A \\rightarrow \\triangle(S)$. As before it is stochastic where a patient will exist and the location to which the patient will be taken by the ambulance.\n",
    "- The rewards is -1 for each step they haven't attended a patient and (n-1) in each case they have attended a patient. \n",
    "\n",
    "Each ambulance tries to minimise its expected waiting time between patients they attended, or alternatively maximise the number of patients it attends. \n",
    "\n"
   ]
  },
  {
   "cell_type": "markdown",
   "metadata": {
    "id": "MAJrglOX4bwJ"
   },
   "source": [
    "## Analysis of the Stochastic Game\n",
    "\n",
    "**Nash equilibria**\n",
    "Usually, an interest in literature is to analyse the convergence of the system to a Nash Equilibrium. \n",
    "\n",
    "**Definition. Nash Equilibrium** A Nash Equilibrium in a Markov Game is a joint policy $\\pi^* = (\\pi^{*1}, ..., \\pi^{*N})$. Such that for any $s \\in S$ and $i \\in N$.\n",
    "\n",
    "$$V^i_{{\\pi^*i},{\\pi^*-i}} \\geq V^i_{{\\pi^i},{\\pi^*-i}} \\text{for any } \\pi^{i}$$\n",
    "\n",
    "Nevertheless, looking for Nash Equilibria in Stochastic Games assumes the rationality of the agents while playing with other agents, which in our system means they know where the other agents are and rationality in the way in their decision-making. \n",
    "\n",
    "Additionally, it has been noted that it is very expensive to analyse Markov Stochastic Games that try to reach a Nash Equilibrium. Even the simplest case, a three player game in a bimatrix equilibria is PPAD-complete (Daskalakis, 2006). Recent literature points out that even Coarse Correlated Equilibria in Multi Agent Systems is NP-hard.[3]\n",
    "\n",
    "In our problem analysis we don't seek to achieve a Nash Equilibria. Our problem focuses on analysing the effect of the decisions, caused by the learning agents given the information they have. \n",
    "\n",
    "**Possible Non - Convergence in Stochastic Games**\n",
    "A problem with Markov Stochastic games is the possible non-stationarity of the system, due to the dependency of each agent for the transition of states and outcome of the system.\n",
    "\n",
    "Theoretically if an agent ignores non-stationary environment with an independent learning strategy, it is not guaranteed that the result will converge.[2]\n",
    "\n",
    "Nevertheless, as mentioned in (Ming, 1993) and (Laetitia et al. 2012)  single-agent independent learning achieves satisfactory results in practice.[12][7]\n",
    "\n",
    "\n"
   ]
  },
  {
   "cell_type": "markdown",
   "metadata": {
    "id": "FTIUbyic04w9"
   },
   "source": [
    "**Single-Agent Learner Assumption**\n",
    "\n",
    "To avoid the problem of non-stationarity, we assume the ambulances are single agent learners. In particular, at the beginning of each step a queue of ambulances is drawn from a random distribution and each ambulance chooses its best response dynamic by using Q-learning method and the private information about the environment. \n",
    "\n",
    "An implication of the assumption is that the agents treat the other ambulances as if they were part of the environment, which allows the model to be treated as Markovian.[2]\n",
    "There is a price to pay in this assumption: either the assumption would be realised and the agents would converge to a Nash Equilibrium or it will not converge (Jaakkola et al., 1994).\n",
    "\n",
    "\n"
   ]
  },
  {
   "cell_type": "markdown",
   "metadata": {
    "id": "GwST_3gy32SU"
   },
   "source": [
    "## Single-Agent Q-Learning: Pseudocode\n",
    "- **Initialisation**: arbitrary Q.\n",
    "- **Repeat** for each episode:\n",
    "- **Initialise** state s\n",
    "- **Repeat** for each step of the episode: \\\\\n",
    "  - Generate random queue of ambulances.\n",
    "  - **Repeat** for each ambulance: \\\\\n",
    "    - a ← action s using policy derived from ϵ-Greedy\\\\\n",
    "    - Take action \\\\\n",
    "  - Observe reward r and next state s'\n",
    "  - **Repeat** for each ambulance \\\\\n",
    "    - $Q(s,a) \\leftarrow Q(s,a)+\\alpha[r+ \\gamma \\ max_{a'} Q^{opt}(S_{t+1},a')]$ \\\\\n",
    "    - $s \\leftarrow s'$ \\\\\n",
    "  - **Stop Until** s is a terminal state.\n"
   ]
  },
  {
   "cell_type": "code",
   "execution_count": null,
   "metadata": {
    "id": "TZjZ6ovi7kWD"
   },
   "outputs": [],
   "source": [
    "class City_multiagent(City):\n",
    "    def __init__(self, ambulances, regions, T, p):\n",
    "        super().__init__( ambulances, regions, T, p)\n",
    "        self.ambulances = list()\n",
    "        self.time_counter = 0\n",
    "\n",
    "    def reset(self):\n",
    "      self.reward = 0.0\n",
    "      self.is_terminal = False\n",
    "      self.time_counter = 0      \n",
    "      return self.state \n",
    "        \n",
    "\n",
    "    def create_ambulances(self):\n",
    "      \n",
    "      new_state = [0]*self.m\n",
    "      for i in range(self.n):\n",
    "\n",
    "        random = np.random.randint(0,self.m)\n",
    "        self.ambulances.append(Ambulance(i, random, self.m))\n",
    "        new_state[random] = new_state[random] + 1\n",
    "\n",
    "      \n",
    "      self.state = new_state\n",
    "\n",
    "    def step(self, action):\n",
    "      \"\"\"\n",
    "        One step decision from the central planner:\n",
    "        action: m tuple with the position of ambulances, \n",
    "        constrained on n, over the sum of ambulances in all the regions.\n",
    "      \"\"\"\n",
    "\n",
    "      new_state = list(action)\n",
    "      m_incident = self.patient_arrival()\n",
    "\n",
    "\n",
    "      #print(m_incident)\n",
    "      if action[m_incident] != 0:\n",
    "        #print(f\"inci {action[m_incident]}\")\n",
    "        ambulance_rank = np.random.randint(0,action[m_incident])  \n",
    "        movement = np.random.randint(0,self.m)\n",
    "\n",
    "        new_state[m_incident] = new_state[m_incident] - 1\n",
    "        new_state[movement] = new_state[movement] + 1   \n",
    "        self.reward = 0\n",
    "        self.state = new_state\n",
    "\n",
    "        \n",
    "      else:\n",
    "        ambulance_rank = -1\n",
    "        movement = -1\n",
    "        self.reward = -1 \n",
    "        self.state = action\n",
    "       \n",
    "\n",
    "      self.time_counter += 1 \n",
    "\n",
    "      if self.time_counter == self.T:\n",
    "        self.is_terminal = True     \n",
    "\n",
    "\n",
    "      return self.state, self.reward, self.is_terminal, m_incident, movement, ambulance_rank\n",
    "\n",
    "    def transition_state(self):\n",
    "      transition_state = [0]*self.m\n",
    "      for ambulance in self.ambulances:\n",
    "        #print(ambulance.position)\n",
    "        transition_state[ambulance.position] += 1\n",
    "\n",
    "      return transition_state\n",
    "\n"
   ]
  },
  {
   "cell_type": "code",
   "execution_count": null,
   "metadata": {
    "id": "u-yJcr7RpIp5"
   },
   "outputs": [],
   "source": [
    "class Ambulance:\n",
    "  def __init__(self, number, position, regions):\n",
    "    self.position = position\n",
    "    self.seen_state = None    \n",
    "    self.rewards_qlearning = np.zeros(episodes)\n",
    "    self.g_q = 0.0\n",
    "    self.number = number\n",
    "    self.q_qlearning = dict()\n",
    "    self.a_q = None\n",
    "    self.m = regions\n",
    "    stay = 0\n",
    "    left = 1\n",
    "    right = 2\n",
    "\n",
    "    self.actions = [stay, left, right]\n",
    "\n",
    "\n",
    "\n",
    "  def set_postion(self, action):\n",
    "    #if self.position>0 and self.position<\n",
    "      self.a_q = action\n",
    "      self.position = [self.position,self.position-1,self.position+1][action] \n",
    "\n",
    "  def q_qlearning_(self, state):\n",
    "    \n",
    "    if state not in self.q_qlearning.keys():\n",
    "      print(state)\n",
    "      self.q_qlearning[state] = [0]*3\n",
    "\n",
    "    return self.q_qlearning[state] \n",
    "\n",
    "  def eps_greedy_policy(self, qsa, epsilon=0.01):\n",
    "    \n",
    "    actions = self.actions\n",
    "    if (self.position == 0):\n",
    "      actions = [stay, right]\n",
    "      get_items = itemgetter(0,2)\n",
    "      qsa = get_items(qsa)\n",
    "\n",
    "    elif (self.position == self.m-1):\n",
    "      actions = [stay, left]   \n",
    "      get_items = itemgetter(0,1)\n",
    "      qsa = get_items(qsa)\n",
    "\n",
    "    if np.random.binomial(1, epsilon) == 1:              \n",
    "        return np.random.choice(actions)\n",
    "    else:\n",
    "        a_q = np.random.choice([action_ for action_, value_ in enumerate(qsa) if value_ == np.max(qsa)])\n",
    "        if self.position == 0 and a_q == 1:\n",
    "          a_q = 2\n",
    "    \n",
    "        return a_q\n",
    "\n",
    "\n",
    "\n",
    "\n",
    "  def q_learning(self, qsa, next_qs, r, alpha=0.1, gamma=.3):  \n",
    "      return qsa + alpha * (r + gamma * np.max(next_qs) - qsa)\n",
    "\n",
    "    #print(self.q_qlearning)\n",
    "    \n",
    "  \n",
    "\n"
   ]
  },
  {
   "cell_type": "code",
   "execution_count": null,
   "metadata": {
    "colab": {
     "base_uri": "https://localhost:8080/"
    },
    "id": "BSwWpL_R8dWO",
    "outputId": "a54c1298-da34-4b21-914b-dc26a2825a8f"
   },
   "outputs": [
    {
     "name": "stdout",
     "output_type": "stream",
     "text": [
      "0\n",
      "[0, 2, 0, 0]\n",
      "[0, 1, 1, 0]\n",
      "[0, 0, 2, 0]\n",
      "[0, 0, 2, 0]\n",
      "[0, 1, 1, 0]\n",
      "[1, 0, 1, 0]\n",
      "[1, 0, 1, 0]\n",
      "[1, 0, 0, 1]\n",
      "[1, 0, 0, 1]\n",
      "[1, 1, 0, 0]\n",
      "[1, 1, 0, 0]\n",
      "[0, 1, 0, 1]\n",
      "[0, 0, 1, 1]\n",
      "[0, 1, 0, 1]\n",
      "[0, 0, 1, 1]\n",
      "[0, 0, 0, 2]\n",
      "[0, 0, 0, 2]\n",
      "[0, 2, 0, 0]\n",
      "[2, 0, 0, 0]\n",
      "[2, 0, 0, 0]\n",
      "1\n",
      "2\n",
      "3\n",
      "4\n",
      "5\n",
      "6\n",
      "7\n",
      "8\n",
      "9\n"
     ]
    }
   ],
   "source": [
    "import numpy as np\n",
    "from operator import itemgetter\n",
    "import random\n",
    "\n",
    "episodes = 100\n",
    "runs = 10\n",
    "\n",
    "rewards_qlearning_cp = np.zeros(episodes)\n",
    "\n",
    "p = [.2,.6,.2,0]\n",
    "\n",
    "env_q_learning = City_multiagent(2, 4, 100, p)\n",
    "env_q_learning.create_ambulances()\n",
    "\n",
    "\n",
    "for r in range(runs):\n",
    "    print(r)\n",
    "\n",
    "\n",
    "\n",
    "    for i in range(episodes):\n",
    "\n",
    "        state_q = env_q_learning.reset()\n",
    "\n",
    "        done_q = False\n",
    "        g_q_cp = 0.0\n",
    "            \n",
    "        #Q-Learning\n",
    "        while not done_q:\n",
    "\n",
    "\n",
    "          random.shuffle(env_q_learning.ambulances)\n",
    "\n",
    "          \n",
    "          for ambulance in env_q_learning.ambulances:\n",
    "            #For each ambulance\n",
    "\n",
    "              #print(f\"State: {str(state_q)}\")\n",
    "              ambulance.seen_state = state_q\n",
    "              a_q = ambulance.eps_greedy_policy(ambulance.q_qlearning_(str(state_q)))\n",
    "              #print(ambulance.q_qlearning)\n",
    "              #print(f\"Action: {a_q}\")\n",
    "              ambulance.set_postion(a_q)\n",
    "\n",
    "              change_state = env_q_learning.transition_state()\n",
    "\n",
    "              state_q = change_state\n",
    "\n",
    "          # All ambulances changed the state\n",
    "          #print((state_q, change_state, a_q))\n",
    "          next_state_q, r_q, done_q, m_incident, movement, chosen_ambulance = env_q_learning.step(change_state)\n",
    "          #print(( change_state, next_state_q, r_q, m_incident, movement, done_q, a_q, chosen_ambulance))\n",
    "          g_q_cp += r_q\n",
    "          counter = 0\n",
    "          for ambulance in env_q_learning.ambulances:\n",
    "\n",
    "\n",
    "              #Fix this. \n",
    "\n",
    "              if ambulance.position == m_incident:\n",
    "                #print(f\"position: {ambulance.position}\")\n",
    "                #print(f\"counter: {counter}, ambulance = {chosen_ambulance}\")                \n",
    "                if counter == chosen_ambulance:\n",
    "\n",
    "                  ambulance.position = movement\n",
    "                  a_rq = env_q_learning.n - 1\n",
    "                  #print(f\"sí entró {ambulance.position}\")\n",
    "                \n",
    "                counter += 1 \n",
    "              else:\n",
    "                a_rq = -1                \n",
    "\n",
    "              #print((str(state_q), str(next_state_q)))\n",
    "              ambulance.g_q += a_rq\n",
    "              options = ambulance.q_qlearning_(str(next_state_q))\n",
    "              current = ambulance.q_qlearning_(str(state_q))[ambulance.a_q]\n",
    "              # Q-learning updates, note the second argument\n",
    "              ambulance.q_qlearning[str(ambulance.seen_state)][ambulance.a_q] = ambulance.q_learning(current, options, a_rq)\n",
    "              #print(ambulance.q_qlearning)\n",
    "              #print(q_qlearning)\n",
    "              state_q = next_state_q\n",
    "\n",
    "   \n",
    "        rewards_qlearning_cp[i] += g_q_cp     \n",
    "\n",
    "        for ambulance in env_q_learning.ambulances:\n",
    "          ambulance.rewards_qlearning[i] += ambulance.g_q\n",
    "          ambulance.g_q = 0.0\n"
   ]
  },
  {
   "cell_type": "code",
   "execution_count": null,
   "metadata": {
    "colab": {
     "base_uri": "https://localhost:8080/"
    },
    "id": "oii_yg14QoyW",
    "outputId": "d41c3a52-afd3-43ee-959a-e1bacf9f9673"
   },
   "outputs": [
    {
     "data": {
      "text/plain": [
       "array([-431., -432., -450., -465., -490., -460., -440., -429., -449.,\n",
       "       -480., -467., -459., -446., -466., -455., -418., -427., -419.,\n",
       "       -399., -406., -433., -414., -442., -427., -435., -397., -433.,\n",
       "       -442., -426., -396., -416., -420., -437., -451., -406., -425.,\n",
       "       -395., -453., -412., -414., -462., -409., -426., -450., -433.,\n",
       "       -412., -435., -428., -397., -434., -415., -421., -399., -414.,\n",
       "       -450., -429., -405., -413., -403., -409., -414., -403., -443.,\n",
       "       -438., -409., -421., -455., -427., -427., -405., -415., -427.,\n",
       "       -435., -403., -390., -421., -434., -438., -392., -409., -439.,\n",
       "       -395., -425., -415., -434., -437., -464., -399., -430., -396.,\n",
       "       -369., -359., -425., -430., -423., -375., -458., -396., -414.,\n",
       "       -434.])"
      ]
     },
     "execution_count": 14,
     "metadata": {},
     "output_type": "execute_result"
    }
   ],
   "source": [
    "rewards_qlearning_cp"
   ]
  },
  {
   "cell_type": "code",
   "execution_count": null,
   "metadata": {
    "colab": {
     "base_uri": "https://localhost:8080/"
    },
    "id": "ZFxGdE72Q8Op",
    "outputId": "5db5a6ae-50d9-4e12-f424-0954617eaa47"
   },
   "outputs": [
    {
     "name": "stdout",
     "output_type": "stream",
     "text": [
      "[-298. -276. -298. -326. -302. -284. -256. -236. -284. -346. -326. -328.\n",
      " -262. -298. -312. -222. -256. -290. -228. -230. -288. -318. -292. -246.\n",
      " -244. -218. -230. -300. -296. -230. -252. -276. -314. -288. -284. -296.\n",
      " -252. -320. -256. -270. -288. -224. -278. -318. -260. -240. -326. -312.\n",
      " -314. -312. -288. -282. -232. -248. -258. -272. -234. -274. -222. -224.\n",
      " -202. -248. -296. -298. -226. -258. -332. -264. -258. -290. -300. -270.\n",
      " -340. -254. -304. -306. -252. -348. -272. -292. -326. -254. -280. -274.\n",
      " -338. -292. -330. -212. -302. -234. -220. -162. -256. -260. -264. -200.\n",
      " -338. -236. -218. -306.]\n",
      "[-262. -282. -326. -350. -388. -322. -276. -298. -300. -330. -292. -282.\n",
      " -290. -336. -280. -266. -292. -266. -280. -260. -288. -196. -304. -276.\n",
      " -300. -242. -300. -290. -262. -240. -254. -230. -260. -302. -256. -280.\n",
      " -210. -284. -214. -254. -334. -242. -244. -272. -254. -282. -260. -246.\n",
      " -212. -264. -268. -250. -224. -270. -318. -266. -252. -252. -254. -288.\n",
      " -268. -228. -292. -218. -272. -242. -278. -258. -272. -226. -216. -288.\n",
      " -254. -256. -214. -224. -292. -236. -216. -244. -264. -224. -234. -248.\n",
      " -266. -274. -354. -248. -236. -256. -180. -192. -272. -294. -276. -210.\n",
      " -296. -238. -278. -246.]\n"
     ]
    }
   ],
   "source": [
    "for i in range(env_q_learning.n):\n",
    "  print(env_q_learning.ambulances[i].rewards_qlearning)\n"
   ]
  },
  {
   "cell_type": "code",
   "execution_count": null,
   "metadata": {
    "colab": {
     "base_uri": "https://localhost:8080/"
    },
    "id": "pzhbviZrSDZE",
    "outputId": "ca9c5b4c-6afd-4550-d270-29399342258b"
   },
   "outputs": [
    {
     "name": "stdout",
     "output_type": "stream",
     "text": [
      "Ambulance 1\n",
      "{'[0, 0, 0, 2]': [-1.1013836239655974, 0.10958737000000002, 0],\n",
      " '[0, 0, 1, 1]': [-1.036847437585972, 0.16979884532904724, -0.9480007463790864],\n",
      " '[0, 0, 2, 0]': [-0.8563936266878179, -0.1923398517109, -0.854953427258105],\n",
      " '[0, 1, 0, 1]': [-1.0291846847274915,\n",
      "                  0.10651000000000001,\n",
      "                  -0.8295527033091146],\n",
      " '[0, 1, 1, 0]': [-1.0271803266070751,\n",
      "                  0.007000000000000006,\n",
      "                  -0.7201668523701025],\n",
      " '[0, 2, 0, 0]': [-0.8295636003505017,\n",
      "                  0.09520222900000001,\n",
      "                  -0.6324162746101619],\n",
      " '[1, 0, 0, 1]': [-1.0230929168574883, -0.27949, -0.5539401671330922],\n",
      " '[1, 0, 1, 0]': [-1.0187490639463679, -0.1599257, -0.6722646471491457],\n",
      " '[1, 1, 0, 0]': [-0.9002850873653906, -0.1, -0.49786861968038276],\n",
      " '[2, 0, 0, 0]': [-0.8892056526282117, 0, -0.4775593471491457]}\n",
      "Ambulance 2\n",
      "{'[0, 0, 0, 2]': [-0.7612403165401, -0.4950503249086621, 0],\n",
      " '[0, 0, 1, 1]': [-0.798150180266563, -0.2662298766557546, -0.7046003872767842],\n",
      " '[0, 0, 2, 0]': [-0.7382909456092078,\n",
      "                  -0.19632631570958686,\n",
      "                  -0.770720973062082],\n",
      " '[0, 1, 0, 1]': [-0.9998341616116263, -0.10894668277, -0.7452455256245355],\n",
      " '[0, 1, 1, 0]': [-0.538954682084812, -0.19297361497, -0.779105673062082],\n",
      " '[0, 2, 0, 0]': [-0.8063067682083491,\n",
      "                  -0.35990287958755307,\n",
      "                  -0.8061369386464874],\n",
      " '[1, 0, 0, 1]': [-0.9992129995361332,\n",
      "                  -0.09912049900000001,\n",
      "                  -0.8069843142049739],\n",
      " '[1, 0, 1, 0]': [-0.9427216554735631,\n",
      "                  -0.27946546192210003,\n",
      "                  -0.6363203311694652],\n",
      " '[1, 1, 0, 0]': [-0.9976324665116179,\n",
      "                  -0.15990287958755303,\n",
      "                  -0.8285232447818387],\n",
      " '[2, 0, 0, 0]': [-0.9972318533206537, 0, -0.8287916452649386]}\n"
     ]
    }
   ],
   "source": [
    "import pprint\n",
    "\n",
    "for i in range(env_q_learning.n):\n",
    "  print(f\"Ambulance {i+1}\")\n",
    "  pprint.pprint(env_q_learning.ambulances[i].q_qlearning)\n"
   ]
  },
  {
   "cell_type": "code",
   "execution_count": null,
   "metadata": {
    "colab": {
     "base_uri": "https://localhost:8080/",
     "height": 320
    },
    "id": "BkJ_1LW7v-a5",
    "outputId": "278d8184-1035-4554-b1d8-498eec9a9ee2"
   },
   "outputs": [
    {
     "data": {
      "image/png": "[encoded data removed]",
      "text/plain": [
       "<Figure size 432x288 with 1 Axes>"
      ]
     },
     "metadata": {
      "needs_background": "light"
     },
     "output_type": "display_data"
    },
    {
     "name": "stdout",
     "output_type": "stream",
     "text": [
      "None\n"
     ]
    }
   ],
   "source": [
    "import matplotlib.pyplot as plt\n",
    "def plot_rewards(plots):\n",
    "    plt.figure()\n",
    "    for plot in plots:\n",
    "      method, method_title = plot\n",
    "      plt.plot(method, label=method_title)\n",
    "      # plt.plot(r_qlearning, label='Q-learning')\n",
    "      plt.xlabel('Episodes')\n",
    "      plt.ylabel('Sum of rewards during episodes')\n",
    "      plt.ylim([-200, 0])\n",
    "      plt.legend()\n",
    "      plt.show()\n",
    "\n",
    "\n",
    "\n",
    "\n",
    "\n",
    "print(plot_rewards( [[rewards_qlearning_cp/runs, 'Q-learning']]))\n"
   ]
  },
  {
   "cell_type": "code",
   "execution_count": null,
   "metadata": {
    "colab": {
     "base_uri": "https://localhost:8080/",
     "height": 586
    },
    "id": "Ns4R9x0zG4wC",
    "outputId": "eb1aa68d-57ce-4065-cac4-acfb804a70d3"
   },
   "outputs": [
    {
     "data": {
      "image/png": "[encoded data removed]",
      "text/plain": [
       "<Figure size 432x288 with 1 Axes>"
      ]
     },
     "metadata": {
      "needs_background": "light"
     },
     "output_type": "display_data"
    },
    {
     "data": {
      "image/png": "[encoded data removed]",
      "text/plain": [
       "<Figure size 432x288 with 1 Axes>"
      ]
     },
     "metadata": {
      "needs_background": "light"
     },
     "output_type": "display_data"
    },
    {
     "name": "stdout",
     "output_type": "stream",
     "text": [
      "None\n"
     ]
    }
   ],
   "source": [
    "print(plot_rewards( [(env_q_learning.ambulances[i].rewards_qlearning/runs, f\"ambulance {i}\") for i in range(env_q_learning.n)]))"
   ]
  },
  {
   "cell_type": "markdown",
   "metadata": {
    "id": "nA7dwa4Rwfxi"
   },
   "source": [
    "## Observations and Conclusions\n",
    "\n",
    "The results in the experiment of n=2, m=4 and p = (.2 , .6 ,. 2 ,0 ) are quite surprising. Even though there are more agents in the system, the amount of patients that are unattended is approximately the same as the average best solution of the achieved learning result in the first setting. \n",
    "\n",
    "Moreover, the ambulances do not learn a better way to minimise their expected waiting time. This could be caused by the lack of convergence in the estimation of the state-action function. \n",
    "\n",
    "\n",
    "---\n",
    "\n",
    "\n"
   ]
  },
  {
   "cell_type": "markdown",
   "metadata": {
    "id": "0y_KVtpxhc9s"
   },
   "source": [
    "# Information Design: Central Planner Sends Recommendations to Ambulances\n",
    "\n"
   ]
  },
  {
   "cell_type": "markdown",
   "metadata": {
    "id": "fTs0vAzKhn2c"
   },
   "source": [
    "This section proposes a solution for the ambulance problem inspired by the seminal work of Kamenicka and Gentskow in 2011 and the recent implementation as a Markov Persuasive Model by Wu in 2022.[6][12]\n",
    "\n",
    "In this model we have the same setting as before, but now the central planner and independent ambulances coexist in the same environment. The former tries to minimise lost patients, while the latter-the expected waiting time between patients. The central planner cannot work as a dictator because ambulances are not directly dependent on him, but the central planner has more information than ambulances about the arrival of patients in the city, and it can use that information to his advantage to persuade the ambulances into taking particular actions. Recall that ambulances only know their private information about the rate of patients, based solely on their own experience.\n",
    "As a consequence, the central planner needs to design a persuasion signalling message for each ambulance privately, subject to ensuring that the ambulances will be obedient.\n",
    "\n",
    "\n"
   ]
  },
  {
   "cell_type": "markdown",
   "metadata": {
    "id": "2ikJ0t7J9gPD"
   },
   "source": [
    "## Information Design Preliminaries\n",
    "\n",
    "Information design focuses on two agents: a sender with a utility function $v$, and a receiver with utility function $u$. Both utility functions depend on $\\omega$, which is the realised outcome of certain environment uncertainty, and $a$, which are the actions of the receivers. The main concept behind the persuasion problem is how does the sender reveal information about $\\omega$ s.t. the expectation of the utility function $v$ is maximised.\n",
    "The sender follows a signalling scheme which is the conditional distribution of the signal, random variable, given the outcome of $\\omega$. Once the outcome $\\omega$ is available, the sender samples a signal and sends it to the receiver, which in turn chooses an action,$a$, based on Bayes’ theorem s.t. her expected utility function,$u$, is maximised. The optimal signalling schemes are often direct and persuasive: direct signal schemes imply that each signal will induce a recommended action for the receiver, while persuasive signal schemes imply that the recommended action maximises $u$. Persuasiveness is defined as:\n",
    "$$Pers(\\mu,\\{V(s)^i\\}_{i=1}^n) = \\{\\pi_t: S \\rightarrow\n",
    "P^n : \\sum_{\\omega \\in \\Omega} \\mu (\\omega)\\pi(a|s,\\omega)[Q^i(s,a)-Q^i(s,a')], \\ \\forall i \\in [n],a,a' \\in A^i, s \\in S \\}\n",
    "$$\n",
    "where the π term indicates the probability of action a being recommended given that $\\omega$ outcome has occurred, while the 𝞵 term indicates the priori from which the environment uncertainty is drawn.[12]\n"
   ]
  },
  {
   "cell_type": "markdown",
   "metadata": {
    "id": "MCHCBc1zkz4P"
   },
   "source": [
    "## Markov Persuasive Model\n",
    "\n",
    "\n"
   ]
  },
  {
   "cell_type": "markdown",
   "metadata": {
    "id": "Tpm1FK7pldyf"
   },
   "source": [
    "Markov Persuasion Processes (MPPs) introduce the idea of information\n",
    "processors and decision makers. The sender’s aim is to influence the myopic receivers in such a way that their actions maximise the sender’s cumulative utilities, in this case rewards. MPPs assume a finite horizon Markovian environment with varying prior and utility functions which is indeed the case in the ambulance problem. MPPs find the optimal policy,given that the state space is finite, by adding persuasion to the Bellman equation.\n",
    "\n",
    "\n",
    "\n",
    "## The Model\n",
    "\n",
    "Ambulances have the same action space: Left, Right, or Stay. \n",
    "\n",
    "The central planner has two types of information: state and outcome. The first one is as before, while the second one is the knowledge about rate of arrival of patients in each region. The outcome has a prior distribution. \n",
    "The central planner use this outcome information to create the signals to ambulances about where to position themselves. \n",
    "\n",
    "As before the state changes due to the ambulance's actions. The payments of both the ambulances and the Central planner depend on the joint action of all ambulances. The probability transition is affected by the state, action, and the revealed information $\\omega_h$ which is the place where the patient appeared $P_t(s_{t+1}|s_t,\\omega_t,a_t)$. \n",
    "The central planner has a prior of what $\\omega_h$ is going to be, and it is the only one that always sees the realised $\\omega_h$, while the only time an ambulance sees a realisation is when it attends a patient. \n",
    "\n",
    "The MPP goes as follows.\n",
    "1. There are ambulances and each doesn't know any prior distribution about the arriving rate of patients, just what they have learnt through their own experience. Their reward is as before: $-(n-1)$ if they don't attent a patient in the step $t$, and 0 otherwise.\n",
    "\n",
    "2. The sender can see the valuation of each ambulance and it commits to a persuasive signal $\\pi_t: S \\rightarrow\n",
    "P^n$ where $P$ is a mapping from $\\Omega \\rightarrow △(A)$ - a probability distribution of where a patient will be, for each ambulance.\n",
    "\n",
    "3. The central planner receives the call for the patient in a region (realized $\\omega_t$). Subsequently,it recommends to the receiver to take an action $a_t \\sim \\pi_t(.|s_t, \\omega_t )$. \n",
    "\n",
    "4. Given the recommendation of the action $a^i_t$, all ambulances take an action $a'^{i}_t$ and get a reward. \n",
    "\n",
    "5. The ambulance that got the patient is moved to another region and so a new state $s_{t+1}$ is realised.\n",
    "\n",
    "We restrict the policy of the central planner to be persuasive.\n",
    "\n",
    "$$Pers(\\mu,\\{V(s)^i\\}_{i=1}^n) = \\{\\pi_t: S \\rightarrow\n",
    "P^n : \\sum_{\\omega \\in \\Omega} \\mu (\\omega)\\pi(a|s,\\omega)[Q^i(s,a)-Q^i(s,a')], \\ \\forall i \\in [n],a,a' \\in A^i, s \\in S \\}\n",
    "$$\n",
    "## Optimal Ambulances Problem\n",
    "\n",
    "It is the same as the one in setting 2. They want to minimise the expected discounted reward in a finite horizon, namely:\n",
    "$$V^{\\pi,i} (s) = E[\\sum_{t=1}^T \\gamma^{i-1} R^i_t|S_t = s]$$\n",
    "\n",
    "Similarly to setting 2, ambulances are independent learners and take the moment given. \n",
    "\n",
    "The Q-function for the ambulance is as before $Q^{Pi}_t: S \\times A \\rightarrow \\mathbb{R}$ \n",
    "\n",
    "## Optimal Signal Policy Problem in MPPs\n",
    "\n",
    "The value function of the central planner is as before, but it also takes $P$ and $\\mu$ into consideration:\n",
    "\n",
    "$$V^{\\pi}_{P,\\mu} (s) = E[\\sum_{t=1}^T  \\gamma^{i-1} R^i_t|S_t = s]$$\n",
    "\n",
    "The reward is -1 if the patient wasn't attended and 0 otherwise.\n",
    "\n",
    "We define the Q-function as $Q^{Pi}_t: S \\times \\Omega \\times A \\rightarrow \\mathbb{R}$\n",
    "\n",
    "For any Q-function:\n",
    "$$⟨Q_t, \\mu_t \\otimes \\pi_t ⟩_{\\Omega \\times A} = E_{ \\omega  \\sim  μ_t, a \\sim \\pi_t(.|s,\\omega)} [Q_t(s, \\omega, a]$$\n",
    "\n",
    "The bellman optimality equation is:\n",
    "\n",
    "$$V^*_t(s) = max_{\\pi'_t \\in Pers(\\mu,\\{V(s)^i\\})} ⟨Q^*_t, \\mu_t \\otimes \\pi_t ⟩_{\\Omega \\times A}$$\n",
    "\n",
    "[12]\n",
    "\n",
    "\n",
    "\n",
    "\n"
   ]
  },
  {
   "cell_type": "markdown",
   "metadata": {
    "id": "mrW57guxv_2l"
   },
   "source": [
    "## Reinforcement Learning Problem\n",
    "\n",
    "In real life prior about the state of the world or the distribution of arrival of agents per region is unkown to the central planner. Additionally, the transtion of state to state, given by the movement of ambulances after they attended a patient is unkown. This uncertainty suggests the use of a Reinforcement Learning approach to the sequential decision optimisation of the central planner described above.\n",
    "\n",
    "To solve this problem, the paper from Wu et al.  tackles the lack of knowledge of utility functions, prior distributions, and the Markov transition kernels, by introducing the Optimism-Pessimism Principle for Persuasion Process. The OP4 algorithm introduces a novel combination of pessimism and optimism in addition to the general optimal policy. Exploration is encouraged through the optimism terms, while the signalling policy of the sender is robustified through pessimism terms in order to prevent the decision makers’ harmful equilibrium behaviour.\n",
    "\n",
    "**Pessimism**\n",
    "\n",
    "Given the set of data, the true value of 𝞵t is not obtainable. Instead, before each episode, we construct a confidence region that contains the true priore with a high probability. Afterwards, we find the signalling policies that are persuasive towards all distributions in the confidence interval. Given that the confidence region is accurate, the signalling policy is persuasive in terms of the true prior with certainty. The aim of pessimism is to prompt robust equilibrium dynamics.\n",
    "\n",
    "**Optimism**\n",
    "\n",
    "The uncertainty of the Q-function is a reflection of the uncertainty about the underlying model. The addition of the uncertainty recommends actions with high uncertainty, which in turn results in the receiver taking the particular action, given that the condition of persuasiveness is satisfied. The aim of optimism is to motivate exploration alongside exploitation.\n",
    "The principles of pessimism and optimism are further intertwined in the OP4 algorithm as follows:\n",
    "\n",
    "- **for** episode *t*=1...*T* **do**\n",
    "\n",
    "  > Receive the initial state {$s_1$} at time *t*\n",
    "\n",
    "  > for each step $h \\in H$ \n",
    "  estimate prior $\\mu_h^t$ along the confidence interval $\\mu_B$, and construct an optimistic *Q*-function $Q_h^t$ iteratively with the value function $V_h^t$\n",
    "\n",
    "  > **for** step *h*=1,...*H* **do**\n",
    "  >> Choose robust signaling sceheme $\\pi_h^t \\in argmax_{\\pi_h \\in Pers(\\mu_B,u_h)} ⟨Q^*_t, \\mu_t \\otimes \\pi_t ⟩_{\\Omega \\times A}(s_h^t;C^t)$\n",
    "\n",
    "  >> Observe state $s_h$, outcome $\\omega_h$ and accordingly recommend action $a$~$\\pi_h^t(\\omega_h,.)$ to the receiver.\n",
    "\n",
    "  > **end for** \n",
    "\n",
    "  **end for**\n",
    "\n",
    "One of the main challenges is the tradeoff between uncertainty and revelation of the full information for both the environment and receivers. In the case of uncertainty, the optimal policy might not lead to the desired actions of the decision makers due to lack of persuasiveness, while in the complete information environment, decision makers' actions tend to converge to a suboptimal cumulative reward for the sender, in our case the central planner.[12]\n",
    "\n",
    "**Challenges of the Reinforcement Learning Problem in our model**\n",
    "\n",
    "Compared to Wu et al. paper, our model has independent ambulances that don't disappear when they take an action, but keep learning through all the episode. This is an extra complication and it is not assured that OP4 could work. The particular questions to attend are the following:\n",
    "- How to establish an algorithm that addresses the problem of learning the outcome distribution to design the signal policies while taking into consideration that the receivers (ambulances) would be learning what the central planner suggests via signals?\n",
    "- Does this algorithm achieve a stable solution at each iteration after being trained?\n",
    "- Is there a suboptimal outcome of the algorithm when you introduce learning agent that lives through all the episode versus the ones that disappear as defined by Wu et al.?\n",
    "\n",
    "\n",
    "---\n",
    "\n"
   ]
  },
  {
   "cell_type": "markdown",
   "metadata": {
    "id": "0I0ywNNGiycl"
   },
   "source": [
    "# Ehtical Implications/Further Applicable Suggestions\n",
    "Considering the fact that human lives are at stake, it will be expected that the nature of the algorithm is shared at least with the people in charge of the state. Given that the algorithm implies that not all information available is shared at all times, this can lead to significant moral and ethical discussions and might even be scraped off despite potentially decreasing the death rate amongst cases where ambulances are involved. However, we believe that if the algorithm achieves better performance than the status quo, ethical dilemmas will be overcome. \n",
    "\n",
    "In real life, the ambulance response time often depends on the severity of each case. Thus, it will make sense to implement a severity metric that would suggest which patient should be attended first, considering the fact that at each time step in real life applications more than one patient would appear. This would further increase the complexity of the algorithm, but it may significantly improve the performance with regards to the most important metric: human lives. This suggestion is based on John Rawls' maximin criterion with regards to fairness and justice. The 20th century philosopher suggests that a just system will maximise the position of the least fortunate people, in our case patients in the emergency health system.[9]\n",
    "\n",
    "\n",
    "\n",
    "\n",
    "---\n",
    "\n",
    "\n",
    "\n",
    "\n",
    "\n",
    "# Further Applications\n",
    "**Urban Planning**:\n",
    "Considering the increasing size and density of megacities, the idea of creating a system of independent and self-sufficient regions/neighbourhoods seems like an optimal solution towards the problem of overpopulation and inequality between living conditions of individuals. We propose implementing the MPP model, defining an urban planner as the sender, and a set of real estate companies/developers as the receivers. The idea is to optimise the land available for future projects in such a way that each region is self-sufficient. We define the utility function of the urban planner as the sum of ‘self-sufficiency’ coefficients of all regions within the city that can be determined by various parameters such as the number of shops,residential buildings, hospital etc. per area/residents. The utility functions of each real estate developer is defined as their expected profit from undertaking a project, based on expected prices and sale rate. Each parcel of land is dedicated to a particular set of buildings,e.g. residential, thus enabling the sender to send various signals to different real estate developers based on their interests/specialisation. This will induce the application of auction theory as well since we assume that a set of companies will be informed of an available parcel. This will also maximise income for the state as the conflict between companies will theoretically lead to higher prices. One way to induce persuasiveness is to set an upper bound of the informed developers per parcel. In addition, the sent signal should avoid informing the same set of companies for multiple parcels. For example, we would rather have company A against companies B and C for one parcel, and company A against companies E and D for another. Thus, we aim to avoid overlapping companies in more than 1 auction. This limits the set of possibilities for signalling policies, but tackles the problem of cooperation between companies: e.g. if two companies were aiming for a parcel each and they were allocated in two different auctions, they could use their resources with weights w1=(1,0) and w2=(0,1) respectively in order to maximise the probability of obtaining a single parcel.  \n",
    "\n",
    "\n",
    "---"
   ]
  },
  {
   "cell_type": "markdown",
   "metadata": {
    "id": "ckE6nzBfxAQX"
   },
   "source": [
    "# Conclusion\n",
    "\n",
    "The report focuses on the implementation of Reinforcement Learning algorithms, aiming at the improvement of ambulance allocation within a city and respectively decreasing the number of human lives lost. The first two settings produce similar results, that don't conclude which of the two systems would produce better results in real life. The third setting will potentially produce the best performance, but its complexity shouldn't be undermined especially when it comes to such a dynamic and complex environment as the emergency system in Mexico City. The MPP model could present some ethical issues, but its implementation would ensure that response time is optimised and decreases the chance of mistakes,often made by human interactions and decisions. Thus,we believe that Reinforcement Learning implementation in ambulance allocation will produce the best results for society in general:decreasing the number of human lives lost. \n",
    "\n",
    "\n",
    "---\n",
    "\n"
   ]
  },
  {
   "cell_type": "markdown",
   "metadata": {
    "id": "DJZRb4dLvWaH"
   },
   "source": [
    "# References\n",
    "- [1] Aristi Reina, Francisco. “Regla De Asignación Eficiente De Ambulancias En Un Entorno Dinámico.” ITAM, 2019. \n",
    "\n",
    "- [2] Bowling, Michael, and Manuela Veloso. “Rational and Convergent Learning in Stochastic Games.” IJCAI’01, vol. 2, Aug. 2001, https://doi.org/1642194.1642231. \n",
    "\n",
    "- [3] Daskalakis, Constantinos, et al. “The Complexity of Markov Equilibrium in Stochastic Games.” ArXiv, 8 Apr. 2022, https://doi.org/arxiv:2204.03991v1. \n",
    "\n",
    "- [4] Foerester, Jakob, et al. “Stabilising Experience Replay for Deep Multi-Agent Reinforcement Learning.” International Conference of Machine Learning, 2017, pp. 1146–1155., https://doi.org/10.48550/arXiv.1702.08887. \n",
    "\n",
    "- [5] Jackson, Matthew O. “Mechanism Theory.” SSRN Electronic Jour-\n",
    "nal, 2014, doi:10.2139/ssrn.2542983.\n",
    "\n",
    "- [6] Kamenica, Emir, and Mathew Gentzkow. “Bayesian Persuasion.” American Economic Review, vol. 101, no. 6, Oct. 2011, pp. 2590–2615., https://doi.org/10.1257/aer.101.6.2590. \n",
    "\n",
    "- [7] Matignon, Laetitia, et al. “Independent Reinforcement Learners in Cooperative Markov Games: a Survey Regarding Coordination Problems.” The Knowledge Engineering Review, vol. 27, no. 1, 2012, pp. 1–31., doi:10.1017/S0269888912000057.\n",
    "\n",
    "- [8] Mguni, David, et al. “ Coordinating the Crowd: Inducing Desirable\n",
    "Equilibria in Non-Cooperative Systems.” Prowler, 30 Jan. 2019,\n",
    "doi:arXiv:1901.10923\n",
    "\n",
    "- [9] Pecorino, Philip. \"Rawls and The Maxi Min Principle.\" Queensborough Community College,  CUNY: Computers, Information Technology, the Internet, Ethics, Society and Human Values. June 2006.\n",
    "\n",
    "- [10] Propuesta para hacer más eficiente la atención de Urgencias Médicas en la CDMX. Investigación del C5. Agosto 2019.\n",
    "\n",
    "- [11] Tan, Ming. “Multi-Agent Reinforcement Learning: Independent vs. Cooperative Agents.” International Conference on Machine Learning, 1993, pp. 330–337. \n",
    "\n",
    "- [12] Wu, Jibang, et al. “Sequential Information Design: Markov Persuasion Process and Its Efficient Reinforcement Learning.” ArXiv, 22 Feb. 2022, https://doi.org/10.48550. \n",
    "\n",
    "- [13] Zhang, Kaiqing, et al. “Multi-Agent Reinforcement Learning: A Selective Overview of Theories and Algorithms.” Corr, abs/1911.10635, 28 Apr. 2021, https://doi.org/arxiv:1911.10635v2. \n",
    "\n",
    "\n",
    "\n",
    "---\n",
    "\n",
    "#️Contribution \n",
    "Both team members have contributed equally.\n"
   ]
  }
 ],
 "metadata": {
  "colab": {
   "collapsed_sections": [],
   "name": "Ambulance Allocation Reinforcement Learning.ipynb",
   "provenance": []
  },
  "kernelspec": {
   "display_name": "Python 3",
   "language": "python",
   "name": "python3"
  },
  "language_info": {
   "codemirror_mode": {
    "name": "ipython",
    "version": 3
   },
   "file_extension": ".py",
   "mimetype": "text/x-python",
   "name": "python",
   "nbconvert_exporter": "python",
   "pygments_lexer": "ipython3",
   "version": "3.9.10"
  }
 },
 "nbformat": 4,
 "nbformat_minor": 1
}
